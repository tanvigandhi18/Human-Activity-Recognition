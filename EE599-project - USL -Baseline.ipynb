{
 "cells": [
  {
   "cell_type": "markdown",
   "metadata": {},
   "source": [
    "Load and inspect data"
   ]
  },
  {
   "cell_type": "code",
   "execution_count": null,
   "metadata": {},
   "outputs": [
    {
     "name": "stdout",
     "output_type": "stream",
     "text": [
      "Running baseline models...\n"
     ]
    },
    {
     "name": "stderr",
     "output_type": "stream",
     "text": [
      "c:\\ProgramData\\anaconda3\\envs\\new_mlds\\lib\\site-packages\\sklearn\\cluster\\_kmeans.py:1412: FutureWarning: The default value of `n_init` will change from 10 to 'auto' in 1.4. Set the value of `n_init` explicitly to suppress the warning\n",
      "  super()._check_params_vs_input(X, default_n_init=10)\n"
     ]
    },
    {
     "name": "stdout",
     "output_type": "stream",
     "text": [
      "\n",
      "K-Means Results (Baseline k=6):\n",
      "Silhouette Score: 0.110\n",
      "Calinski-Harabasz Index: 2556.542\n",
      "Davies-Bouldin Index: 2.384\n",
      "\n",
      "GMM Results (Baseline k=6):\n",
      "Silhouette Score: 0.135\n",
      "Calinski-Harabasz Index: 2458.728\n",
      "Davies-Bouldin Index: 2.581\n",
      "\n",
      "Agglomerative Results (Baseline k=6):\n",
      "Silhouette Score: 0.117\n",
      "Calinski-Harabasz Index: 2349.668\n",
      "Davies-Bouldin Index: 2.482\n",
      "\n",
      "K-Medoids Results (Baseline k=6):\n",
      "Silhouette Score: 0.062\n",
      "Calinski-Harabasz Index: 2398.673\n",
      "Davies-Bouldin Index: 2.750\n"
     ]
    }
   ],
   "source": [
    "import numpy as np\n",
    "import pandas as pd\n",
    "from sklearn.cluster import KMeans, AgglomerativeClustering\n",
    "from sklearn.mixture import GaussianMixture\n",
    "from sklearn_extra.cluster import KMedoids\n",
    "from sklearn.metrics import silhouette_score, calinski_harabasz_score, davies_bouldin_score\n",
    "from sklearn.preprocessing import StandardScaler\n",
    "\n",
    "# Load dataset\n",
    "train = pd.read_csv('train.csv')\n",
    "test = pd.read_csv('test.csv')\n",
    "\n",
    "# Combine train and test features, drop labels\n",
    "features_train = train.drop(columns=['Activity', 'subject'])\n",
    "features_test = test.drop(columns=['Activity', 'subject'])\n",
    "combined_features = pd.concat([features_train, features_test], axis=0)\n",
    "\n",
    "# Standardize data\n",
    "scaler = StandardScaler()\n",
    "scaled_features = scaler.fit_transform(combined_features)\n",
    "\n",
    "k_baseline = 6\n",
    "\n",
    "# Initialize clustering models\n",
    "print(\"Running baseline models...\")\n",
    "models = {\n",
    "    \"K-Means\": KMeans(n_clusters=k_baseline, random_state=42),\n",
    "    \"GMM\": GaussianMixture(n_components=k_baseline, random_state=42),\n",
    "    \"Agglomerative\": AgglomerativeClustering(n_clusters=k_baseline, linkage='ward'),\n",
    "    \"K-Medoids\": KMedoids(n_clusters=k_baseline, random_state=42, method=\"pam\"),\n",
    "}\n",
    "\n",
    "# Evaluate baseline models\n",
    "for model_name, model in models.items():\n",
    "    if model_name == \"GMM\":\n",
    "        cluster_labels = model.fit_predict(scaled_features)\n",
    "    else:\n",
    "        cluster_labels = model.fit(scaled_features).labels_\n",
    "    \n",
    "    silhouette = silhouette_score(scaled_features, cluster_labels)\n",
    "    calinski = calinski_harabasz_score(scaled_features, cluster_labels)\n",
    "    davies_bouldin = davies_bouldin_score(scaled_features, cluster_labels)\n",
    "    \n",
    "    print(f\"\\n{model_name} Results (Baseline k={k_baseline}):\")\n",
    "    print(f\"Silhouette Score: {silhouette:.3f}\")\n",
    "    print(f\"Calinski-Harabasz Index: {calinski:.3f}\")\n",
    "    print(f\"Davies-Bouldin Index: {davies_bouldin:.3f}\")\n",
    "\n"
   ]
  }
 ],
 "metadata": {
  "colab": {
   "provenance": []
  },
  "kernelspec": {
   "display_name": "new_mlds",
   "language": "python",
   "name": "python3"
  },
  "language_info": {
   "codemirror_mode": {
    "name": "ipython",
    "version": 3
   },
   "file_extension": ".py",
   "mimetype": "text/x-python",
   "name": "python",
   "nbconvert_exporter": "python",
   "pygments_lexer": "ipython3",
   "version": "3.8.18"
  }
 },
 "nbformat": 4,
 "nbformat_minor": 0
}
